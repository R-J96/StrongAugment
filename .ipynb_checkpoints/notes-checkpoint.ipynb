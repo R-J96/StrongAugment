{
 "cells": [
  {
   "cell_type": "code",
   "execution_count": null,
   "id": "8a0b1fb3",
   "metadata": {},
   "outputs": [
    {
     "name": "stdout",
     "output_type": "stream",
     "text": [
      "Processing images |########  | 88348/100000 [00:44<00:05]\r"
     ]
    }
   ],
   "source": [
    "from functools import partial\n",
    "import torchvision.transforms.functional as F\n",
    "from strong_augment import shift_dataset\n",
    "\n",
    "# Let's define the distribution shift function.\n",
    "shift_fn = partial(F.adjust_gamma, gamma=0.2)\n",
    "\n",
    "# Now we can shift the dataset!\n",
    "shift_dataset(\n",
    "    paths=[\"./strong_augment/image.jpeg\"] * 10_000,\n",
    "    output_dir=\"/data/shifted_datasets/gamma_0.2\",\n",
    "    function=shift_fn,\n",
    "    num_workers=20,\n",
    ")"
   ]
  },
  {
   "cell_type": "code",
   "execution_count": null,
   "id": "0660dcb5",
   "metadata": {},
   "outputs": [],
   "source": []
  },
  {
   "cell_type": "code",
   "execution_count": 2,
   "id": "950c6bf9",
   "metadata": {},
   "outputs": [],
   "source": []
  },
  {
   "cell_type": "code",
   "execution_count": 3,
   "id": "1d5a9d0f",
   "metadata": {},
   "outputs": [],
   "source": []
  },
  {
   "cell_type": "code",
   "execution_count": 4,
   "id": "e65fcc62",
   "metadata": {},
   "outputs": [],
   "source": [
    "shift = partial(F.adjust_gamma, gamma=0.2)"
   ]
  },
  {
   "cell_type": "code",
   "execution_count": 7,
   "id": "3c522bdb",
   "metadata": {},
   "outputs": [
    {
     "name": "stdout",
     "output_type": "stream",
     "text": [
      "Processing images |          | 0/100 [00:00<???]\r",
      "                                                \r",
      "Processing images |          | 1/100 [00:00<00:00]\r",
      "                                                  \r",
      "Processing images |#         | 17/100 [00:00<00:00]\r",
      "                                                   \r",
      "Processing images |####      | 43/100 [00:00<00:00]\r",
      "                                                   \r",
      "Processing images |#######   | 78/100 [00:00<00:00]\r",
      "                                                   \r",
      "Processing images |##########| 100/100 [00:00<00:00]\n"
     ]
    },
    {
     "data": {
      "text/plain": [
       "[]"
      ]
     },
     "execution_count": 7,
     "metadata": {},
     "output_type": "execute_result"
    }
   ],
   "source": [
    "shift_dataset(\"./strong_augment/image.jpeg\" * 100, output_dir=\"./test/tmp/\", function=shift, num_workers=1)"
   ]
  },
  {
   "cell_type": "code",
   "execution_count": null,
   "id": "606e2bb2",
   "metadata": {},
   "outputs": [],
   "source": []
  },
  {
   "cell_type": "code",
   "execution_count": null,
   "id": "377828b7",
   "metadata": {},
   "outputs": [],
   "source": []
  },
  {
   "cell_type": "code",
   "execution_count": null,
   "id": "22a3fec3",
   "metadata": {},
   "outputs": [],
   "source": []
  }
 ],
 "metadata": {
  "kernelspec": {
   "display_name": "Python [conda env:SA]",
   "language": "python",
   "name": "conda-env-SA-py"
  },
  "language_info": {
   "codemirror_mode": {
    "name": "ipython",
    "version": 3
   },
   "file_extension": ".py",
   "mimetype": "text/x-python",
   "name": "python",
   "nbconvert_exporter": "python",
   "pygments_lexer": "ipython3",
   "version": "3.9.6"
  }
 },
 "nbformat": 4,
 "nbformat_minor": 5
}
